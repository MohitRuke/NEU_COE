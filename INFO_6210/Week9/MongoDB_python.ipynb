{
 "cells": [
  {
   "cell_type": "markdown",
   "metadata": {},
   "source": [
    "# MongoDB with python"
   ]
  },
  {
   "cell_type": "code",
   "execution_count": 1,
   "metadata": {
    "collapsed": true
   },
   "outputs": [],
   "source": [
    "%matplotlib inline\n",
    "import pymongo\n",
    "from pymongo import MongoClient\n",
    "from pymongo.errors import ConnectionFailure\n",
    "from bson import json_util, ObjectId\n",
    "import pandas as pd\n",
    "from pandas import DataFrame\n",
    "from pandas.io.json import json_normalize\n",
    "import numpy as np\n",
    "import requests\n",
    "import json, os\n",
    "import configparser\n",
    "import matplotlib.pyplot as plt\n",
    "import numpy as np\n",
    "from scipy import stats\n",
    "import seaborn as sns\n",
    "import warnings\n",
    "import random\n",
    "import pprint\n",
    "from datetime import datetime\n",
    "random.seed(datetime.now())\n",
    "warnings.filterwarnings('ignore')\n",
    "\n",
    "# Make plots larger\n",
    "plt.rcParams['figure.figsize'] = (10, 6)"
   ]
  },
  {
   "cell_type": "markdown",
   "metadata": {},
   "source": [
    "###  Install PyMongo¶\n",
    "\n",
    "Linux/OS X   \n",
    "You can use pip to install:  \n",
    "\n",
    "```bash  \n",
    "pip install pymongo\n",
    "```\n",
    "\n",
    "###  Create a Connection  \n",
    "\n",
    "\n",
    "Use MongoClient to create a connection:\n",
    "\n",
    "```python  \n",
    "client = MongoClient()\n",
    "```\n",
    "If you do not specify any arguments to MongoClient, then MongoClient defaults to the MongoDB instance that runs on the localhost interface on port 27017.   \n",
    "\n",
    "You can also specify a complete MongoDB URI to define the connection, including explicitly specifying the host and port number. For example, the following creates a connection to a MongoDB instance that runs on mongodb0.example.net and the port of 27017:  \n",
    "\n",
    "\n",
    "```python\n",
    "client = MongoClient(\"mongodb://mongodb0.example.net:27017\")\n",
    "```\n",
    "\n",
    "### Access Database Objects  \n",
    "\n",
    "The first fundamental class of objects you will interact with using pymongo is Database which represents the database construct in MongoDB. Databases hold groups of logically related collections. MongoDB creates new databases implicitly upon their first use.   \n",
    "\n",
    "To assign the database named primer to the local variable db, you can use attribute access, as in the following:  \n",
    "\n",
    "```python\n",
    "db = client.primer\n",
    "```\n",
    "You can also access databases using dictionary-style access, which removes Python-specific naming restrictions, as in the following:  \n",
    "\n",
    "```python\n",
    "db = client['primer']\n",
    "```\n",
    "\n",
    "### Access Collection Objects   \n",
    "\n",
    "The second fundamental class of objects you will interact using pymongo is Collection, which represents the collection construct in MongoDB. Collections hold groups of related documents.   \n",
    "\n",
    "You can access collection objects directly using dictionary-style or attribute access from a Database object, as in the following examples:  \n",
    "\n",
    "\n",
    "```python\n",
    "db.dataset\n",
    "db['dataset']\n",
    "```\n",
    "You may also assign the collection object to a variable for use elsewhere, as in the following examples:  \n",
    "\n",
    "```python\n",
    "coll = db.dataset\n",
    "coll = db['dataset']\n",
    "```"
   ]
  },
  {
   "cell_type": "code",
   "execution_count": 2,
   "metadata": {},
   "outputs": [
    {
     "data": {
      "text/plain": [
       "['./data/mongo.ini']"
      ]
     },
     "execution_count": 2,
     "metadata": {},
     "output_type": "execute_result"
    }
   ],
   "source": [
    "config = configparser.ConfigParser()\n",
    "config.read('./data/mongo.ini')"
   ]
  },
  {
   "cell_type": "code",
   "execution_count": 3,
   "metadata": {},
   "outputs": [
    {
     "name": "stdout",
     "output_type": "stream",
     "text": [
      "27017\n"
     ]
    }
   ],
   "source": [
    "port = config.get('Mongo', 'port')\n",
    "print (port)"
   ]
  },
  {
   "cell_type": "code",
   "execution_count": 4,
   "metadata": {
    "collapsed": true
   },
   "outputs": [],
   "source": [
    "client = MongoClient(config.get('Mongo', 'host'), int(port))"
   ]
  },
  {
   "cell_type": "code",
   "execution_count": 5,
   "metadata": {},
   "outputs": [
    {
     "data": {
      "text/plain": [
       "Database(MongoClient(host=['localhost:27017'], document_class=dict, tz_aware=False, connect=True), 'analytics')"
      ]
     },
     "execution_count": 5,
     "metadata": {},
     "output_type": "execute_result"
    }
   ],
   "source": [
    "client.analytics"
   ]
  },
  {
   "cell_type": "code",
   "execution_count": 6,
   "metadata": {},
   "outputs": [
    {
     "data": {
      "text/plain": [
       "['tweets', 'blog', 'users']"
      ]
     },
     "execution_count": 6,
     "metadata": {},
     "output_type": "execute_result"
    }
   ],
   "source": [
    "client.analytics.collection_names(include_system_collections=False)"
   ]
  },
  {
   "cell_type": "code",
   "execution_count": 7,
   "metadata": {},
   "outputs": [
    {
     "name": "stdout",
     "output_type": "stream",
     "text": [
      "analytics blog dropped\n"
     ]
    }
   ],
   "source": [
    "try:\n",
    "    result = client.analytics.blog.drop()\n",
    "    print (\"analytics blog dropped\")\n",
    "except:\n",
    "    pass"
   ]
  },
  {
   "cell_type": "code",
   "execution_count": 8,
   "metadata": {},
   "outputs": [
    {
     "name": "stdout",
     "output_type": "stream",
     "text": [
      "analytics users dropped\n"
     ]
    }
   ],
   "source": [
    "try:\n",
    "    result = client.analytics.users.drop()\n",
    "    print (\"analytics users dropped\")\n",
    "except:\n",
    "    pass"
   ]
  },
  {
   "cell_type": "code",
   "execution_count": 9,
   "metadata": {},
   "outputs": [
    {
     "name": "stdout",
     "output_type": "stream",
     "text": [
      "analytics tweets dropped\n"
     ]
    }
   ],
   "source": [
    "try:\n",
    "    result = client.analytics.tweets.drop()\n",
    "    print (\"analytics tweets dropped\")\n",
    "except:\n",
    "    pass"
   ]
  },
  {
   "cell_type": "code",
   "execution_count": 10,
   "metadata": {},
   "outputs": [
    {
     "data": {
      "text/plain": [
       "Database(MongoClient(host=['localhost:27017'], document_class=dict, tz_aware=False, connect=True), 'analytics')"
      ]
     },
     "execution_count": 10,
     "metadata": {},
     "output_type": "execute_result"
    }
   ],
   "source": [
    "client.analytics"
   ]
  },
  {
   "cell_type": "code",
   "execution_count": 11,
   "metadata": {},
   "outputs": [
    {
     "data": {
      "text/plain": [
       "[]"
      ]
     },
     "execution_count": 11,
     "metadata": {},
     "output_type": "execute_result"
    }
   ],
   "source": [
    "client.analytics.collection_names(include_system_collections=False)"
   ]
  },
  {
   "cell_type": "code",
   "execution_count": 12,
   "metadata": {},
   "outputs": [
    {
     "data": {
      "text/plain": [
       "ObjectId('5ac19171a313fc03cdb5052f')"
      ]
     },
     "execution_count": 12,
     "metadata": {},
     "output_type": "execute_result"
    }
   ],
   "source": [
    "result = client.analytics.users.insert_one({\n",
    "    \"username\" : \"Goku\",\n",
    "    \"firstname\" : \"Goku\",\n",
    "    \"surname\" : \"Brown\",\n",
    "    \"dateofbirth\" : datetime(1973, 7, 8),\n",
    "    \"email\" : \"Goku@GokuBrown.com\",\n",
    "    \"score\" : 5\n",
    "})\n",
    "result.inserted_id"
   ]
  },
  {
   "cell_type": "code",
   "execution_count": 13,
   "metadata": {
    "scrolled": true
   },
   "outputs": [
    {
     "data": {
      "text/plain": [
       "ObjectId('5ac19171a313fc03cdb50530')"
      ]
     },
     "execution_count": 13,
     "metadata": {},
     "output_type": "execute_result"
    }
   ],
   "source": [
    "result = client.analytics.blog.insert_one({\n",
    "    \"post_id\": 1,\n",
    "    \"author\": \"Goku\",\n",
    "    \"text\": \"My first blog post!\",\n",
    "    \"tags\": [\"mongodb\", \"python\", \"pymongo\"],\n",
    "    \"date\": datetime.utcnow()\n",
    "})\n",
    "result.inserted_id    "
   ]
  },
  {
   "cell_type": "markdown",
   "metadata": {},
   "source": [
    "## You need to be careful; running a script twice may duplicate your data"
   ]
  },
  {
   "cell_type": "code",
   "execution_count": 14,
   "metadata": {},
   "outputs": [
    {
     "data": {
      "text/plain": [
       "ObjectId('5ac19171a313fc03cdb50531')"
      ]
     },
     "execution_count": 14,
     "metadata": {},
     "output_type": "execute_result"
    }
   ],
   "source": [
    "result = client.analytics.blog.insert_one({\n",
    "    \"post_id\": 1,\n",
    "    \"author\": \"Goku\",\n",
    "    \"text\": \"My first blog post!\",\n",
    "    \"tags\": [\"mongodb\", \"python\", \"pymongo\"],\n",
    "    \"date\": datetime.utcnow()\n",
    "})\n",
    "result.inserted_id "
   ]
  },
  {
   "cell_type": "code",
   "execution_count": 15,
   "metadata": {
    "collapsed": true
   },
   "outputs": [],
   "source": [
    "db = client.analytics"
   ]
  },
  {
   "cell_type": "code",
   "execution_count": 16,
   "metadata": {
    "scrolled": true
   },
   "outputs": [
    {
     "data": {
      "text/plain": [
       "['blog', 'users']"
      ]
     },
     "execution_count": 16,
     "metadata": {},
     "output_type": "execute_result"
    }
   ],
   "source": [
    "db.collection_names(include_system_collections=False)"
   ]
  },
  {
   "cell_type": "code",
   "execution_count": 17,
   "metadata": {},
   "outputs": [
    {
     "ename": "NameError",
     "evalue": "name 'pprint' is not defined",
     "output_type": "error",
     "traceback": [
      "\u001b[0;31m---------------------------------------------------------------------------\u001b[0m",
      "\u001b[0;31mNameError\u001b[0m                                 Traceback (most recent call last)",
      "\u001b[0;32m<ipython-input-17-dc79a57e4a1f>\u001b[0m in \u001b[0;36m<module>\u001b[0;34m()\u001b[0m\n\u001b[1;32m      1\u001b[0m \u001b[0;32mfor\u001b[0m \u001b[0mpost\u001b[0m \u001b[0;32min\u001b[0m \u001b[0mdb\u001b[0m\u001b[0;34m.\u001b[0m\u001b[0mblog\u001b[0m\u001b[0;34m.\u001b[0m\u001b[0mfind\u001b[0m\u001b[0;34m(\u001b[0m\u001b[0;34m{\u001b[0m\u001b[0;34m\"author\"\u001b[0m\u001b[0;34m:\u001b[0m \u001b[0;34m\"Goku\"\u001b[0m\u001b[0;34m}\u001b[0m\u001b[0;34m)\u001b[0m\u001b[0;34m:\u001b[0m\u001b[0;34m\u001b[0m\u001b[0m\n\u001b[0;32m----> 2\u001b[0;31m     \u001b[0mpprint\u001b[0m\u001b[0;34m.\u001b[0m\u001b[0mpprint\u001b[0m\u001b[0;34m(\u001b[0m\u001b[0mpost\u001b[0m\u001b[0;34m)\u001b[0m\u001b[0;34m\u001b[0m\u001b[0m\n\u001b[0m\u001b[1;32m      3\u001b[0m \u001b[0;31m# You need to be careful; running a script twice may duplicate your data\u001b[0m\u001b[0;34m\u001b[0m\u001b[0;34m\u001b[0m\u001b[0m\n",
      "\u001b[0;31mNameError\u001b[0m: name 'pprint' is not defined"
     ]
    }
   ],
   "source": [
    "for post in db.blog.find({\"author\": \"Goku\"}):\n",
    "    pprint.pprint(post)\n",
    "# You need to be careful; running a script twice may duplicate your data    "
   ]
  },
  {
   "cell_type": "markdown",
   "metadata": {},
   "source": [
    "### Getting a Single Document With find_one()   "
   ]
  },
  {
   "cell_type": "code",
   "execution_count": null,
   "metadata": {},
   "outputs": [],
   "source": [
    "pprint.pprint(db.blog.find_one())"
   ]
  },
  {
   "cell_type": "code",
   "execution_count": null,
   "metadata": {},
   "outputs": [],
   "source": [
    "pprint.pprint(db.blog.find_one({\"author\": \"Goku\"}))"
   ]
  },
  {
   "cell_type": "markdown",
   "metadata": {},
   "source": [
    "###  Querying By ObjectId   "
   ]
  },
  {
   "cell_type": "code",
   "execution_count": null,
   "metadata": {},
   "outputs": [],
   "source": [
    "mid=db.blog.find_one({\"author\": \"Goku\"})['_id'] \n",
    "mid"
   ]
  },
  {
   "cell_type": "code",
   "execution_count": null,
   "metadata": {},
   "outputs": [],
   "source": [
    "pprint.pprint(db.blog.find_one({\"_id\": mid}))"
   ]
  },
  {
   "cell_type": "markdown",
   "metadata": {},
   "source": [
    "### Bulk Inserts   "
   ]
  },
  {
   "cell_type": "code",
   "execution_count": null,
   "metadata": {},
   "outputs": [],
   "source": [
    "new_posts = [{\"author\": \"Goku\",\n",
    "    \"text\": \"Another post on bulk inserts!\",\n",
    "    \"tags\": [\"bulk\", \"insert\"],\n",
    "    \"date\": datetime(2017, 3, 12, 11, 14)},\n",
    "    {\"author\": \"Vegeta\",\n",
    "    \"title\": \"MongoDB is fun\",\n",
    "    \"text\": \"and pretty easy too!\",\n",
    "    \"date\": datetime.utcnow()}]\n",
    "result = db.blog.insert_many(new_posts)\n",
    "result.inserted_ids"
   ]
  },
  {
   "cell_type": "markdown",
   "metadata": {},
   "source": [
    "### Querying for More Than One Document  "
   ]
  },
  {
   "cell_type": "code",
   "execution_count": null,
   "metadata": {},
   "outputs": [],
   "source": [
    "for post in db.blog.find():\n",
    "    pprint.pprint(post)"
   ]
  },
  {
   "cell_type": "code",
   "execution_count": null,
   "metadata": {},
   "outputs": [],
   "source": [
    "for post in db.blog.find({\"author\": \"Goku\"}):\n",
    "    pprint.pprint(post)"
   ]
  },
  {
   "cell_type": "markdown",
   "metadata": {},
   "source": [
    "### Counting  "
   ]
  },
  {
   "cell_type": "code",
   "execution_count": null,
   "metadata": {},
   "outputs": [],
   "source": [
    "db.blog.count()"
   ]
  },
  {
   "cell_type": "code",
   "execution_count": null,
   "metadata": {},
   "outputs": [],
   "source": [
    "db.blog.find({\"author\": \"Goku\"}).count()"
   ]
  },
  {
   "cell_type": "markdown",
   "metadata": {},
   "source": [
    "### Range Queries"
   ]
  },
  {
   "cell_type": "code",
   "execution_count": null,
   "metadata": {},
   "outputs": [],
   "source": [
    "d = datetime(2017, 5, 5, 12)\n",
    "for post in db.blog.find({\"date\": {\"$gt\": d}}).sort(\"author\"):\n",
    "    pprint.pprint(post)"
   ]
  },
  {
   "cell_type": "markdown",
   "metadata": {},
   "source": [
    "### Indexing  \n",
    "\n",
    "Note if there are duplicates you'll get this error.\n",
    "\n",
    "```python\n",
    "DuplicateKeyError: E11000 duplicate key error collection: analytics.users index: username_1 dup key: { : \"Goku\" }\n",
    "```"
   ]
  },
  {
   "cell_type": "code",
   "execution_count": null,
   "metadata": {},
   "outputs": [],
   "source": [
    "result = db.users.insert_one({\n",
    "    \"username\" : \"Vegeta\",\n",
    "    \"firstname\" : \"Vegeta\",\n",
    "    \"surname\" : \"Saiyan\",\n",
    "    \"dateofbirth\" : datetime(1903, 7, 7),\n",
    "    \"email\" : \"Vegeta@Saiyan.com\",\n",
    "    \"score\" : 3\n",
    "})\n",
    "result.inserted_id"
   ]
  },
  {
   "cell_type": "code",
   "execution_count": null,
   "metadata": {},
   "outputs": [],
   "source": [
    "for user in db.users.find():\n",
    "    pprint.pprint(user)"
   ]
  },
  {
   "cell_type": "code",
   "execution_count": null,
   "metadata": {
    "collapsed": true
   },
   "outputs": [],
   "source": [
    "result = db.users.insert_many([{\n",
    "    \"username\" : \"Bulma\",\n",
    "    \"firstname\" : \"Bulma\",\n",
    "    \"surname\" : \"Saiyan\",\n",
    "    \"dateofbirth\" : datetime(1919, 7, 7),\n",
    "    \"email\" : \"Bulma@Saiyan.com\",\n",
    "    \"score\" : 2},\n",
    "{\n",
    "    \"username\" : \"Trunks\",\n",
    "    \"firstname\" : \"Trunks\",\n",
    "    \"surname\" : \"Saiyan\",\n",
    "    \"dateofbirth\" : datetime(1955, 7, 7),\n",
    "    \"email\" : \"Trunks@Saiyan.com\",\n",
    "    \"score\" : 5\n",
    "}])"
   ]
  },
  {
   "cell_type": "code",
   "execution_count": null,
   "metadata": {},
   "outputs": [],
   "source": [
    "for user in db.users.find():\n",
    "    pprint.pprint(user)"
   ]
  },
  {
   "cell_type": "code",
   "execution_count": null,
   "metadata": {},
   "outputs": [],
   "source": [
    "result = db.users.create_index([('username', pymongo.ASCENDING)], unique=True)\n",
    "sorted(list(db.users.index_information()))"
   ]
  },
  {
   "cell_type": "code",
   "execution_count": null,
   "metadata": {
    "collapsed": true
   },
   "outputs": [],
   "source": [
    "user_profiles = [\n",
    "{\n",
    "    \"username\" : \"Vegeta\",\n",
    "    \"firstname\" : \"Vegeta\",\n",
    "    \"surname\" : \"Saiyan\",\n",
    "    \"dateofbirth\" : datetime(1903, 7, 7),\n",
    "    \"email\" : \"Vegeta@Saiyan.com\",\n",
    "    \"score\" : 3\n",
    "}]"
   ]
  },
  {
   "cell_type": "code",
   "execution_count": null,
   "metadata": {},
   "outputs": [],
   "source": [
    "pprint.pprint(user_profiles)"
   ]
  },
  {
   "cell_type": "code",
   "execution_count": null,
   "metadata": {
    "scrolled": true
   },
   "outputs": [],
   "source": [
    "try:\n",
    "  result = db.users.insert_many(user_profiles)\n",
    "except:\n",
    "  print (\"insert_many(user_profiles) failed\")"
   ]
  },
  {
   "cell_type": "markdown",
   "metadata": {},
   "source": [
    "_The index prevents us from inserting a document whose username is already in the collection_"
   ]
  },
  {
   "cell_type": "markdown",
   "metadata": {},
   "source": [
    "### Update  "
   ]
  },
  {
   "cell_type": "code",
   "execution_count": null,
   "metadata": {},
   "outputs": [],
   "source": [
    "import copy\n",
    "orig_user = db.users.find_one({\"username\":\"Goku\"})\n",
    "new_user = copy.deepcopy(orig_user)\n",
    "pprint.pprint(new_user)"
   ]
  },
  {
   "cell_type": "code",
   "execution_count": null,
   "metadata": {},
   "outputs": [],
   "source": [
    "# modify the copy to add an email address\n",
    "l=[]\n",
    "l.append(new_user[\"email\"])\n",
    "l.append(\"Goku@NikBearBrown.com\")\n",
    "l"
   ]
  },
  {
   "cell_type": "code",
   "execution_count": null,
   "metadata": {},
   "outputs": [],
   "source": [
    "new_user[\"email\"] = l\n",
    "pprint.pprint(new_user)"
   ]
  },
  {
   "cell_type": "code",
   "execution_count": null,
   "metadata": {},
   "outputs": [],
   "source": [
    "# replace the matched document with the contents of new_user\n",
    "db.users.replace_one({\"username\":\"Goku\"}, new_user)"
   ]
  },
  {
   "cell_type": "code",
   "execution_count": null,
   "metadata": {},
   "outputs": [],
   "source": [
    "goku = db.users.find_one({\"username\":\"Goku\"})\n",
    "pprint.pprint(goku)"
   ]
  },
  {
   "cell_type": "markdown",
   "metadata": {},
   "source": [
    "### Delete  "
   ]
  },
  {
   "cell_type": "code",
   "execution_count": null,
   "metadata": {},
   "outputs": [],
   "source": [
    "for user in db.users.find():\n",
    "    pprint.pprint(user)"
   ]
  },
  {
   "cell_type": "code",
   "execution_count": null,
   "metadata": {},
   "outputs": [],
   "source": [
    "db.users.delete_one({\"score\":0})"
   ]
  },
  {
   "cell_type": "code",
   "execution_count": null,
   "metadata": {},
   "outputs": [],
   "source": [
    "for user in db.users.find():\n",
    "    pprint.pprint(user)"
   ]
  },
  {
   "cell_type": "markdown",
   "metadata": {
    "collapsed": true
   },
   "source": [
    "### Query Operators\n",
    "\n",
    "Queries use a document-style (or python dict) syntax."
   ]
  },
  {
   "cell_type": "code",
   "execution_count": null,
   "metadata": {},
   "outputs": [],
   "source": [
    "for user in db.users.find({'score': 5}):\n",
    "    pprint.pprint(user)"
   ]
  },
  {
   "cell_type": "code",
   "execution_count": null,
   "metadata": {},
   "outputs": [],
   "source": [
    "db.users.find({'score': 5}).count()"
   ]
  },
  {
   "cell_type": "code",
   "execution_count": null,
   "metadata": {},
   "outputs": [],
   "source": [
    "for user in db.users.find({'score': {'$lt': 5}}):\n",
    "    pprint.pprint(user)"
   ]
  },
  {
   "cell_type": "code",
   "execution_count": null,
   "metadata": {},
   "outputs": [],
   "source": [
    "db.users.find({'score': {'$lt': 5}}).count()"
   ]
  },
  {
   "cell_type": "code",
   "execution_count": null,
   "metadata": {},
   "outputs": [],
   "source": [
    "db.users.find_one({'score': {'$lte': 4}})"
   ]
  },
  {
   "cell_type": "code",
   "execution_count": null,
   "metadata": {
    "collapsed": true
   },
   "outputs": [],
   "source": [
    "import re\n",
    "rgx = re.compile('Saiyan.com$')"
   ]
  },
  {
   "cell_type": "code",
   "execution_count": null,
   "metadata": {},
   "outputs": [],
   "source": [
    "for user in db.users.find({'email': rgx}):\n",
    "    pprint.pprint(user)"
   ]
  },
  {
   "cell_type": "markdown",
   "metadata": {},
   "source": [
    "### Sort results\n",
    "\n",
    "You can sort the query results on the server side using the sort\n",
    "method."
   ]
  },
  {
   "cell_type": "code",
   "execution_count": null,
   "metadata": {},
   "outputs": [],
   "source": [
    "for user in db.users.find({'score': {'$lte': 4}}).sort([('score', pymongo.DESCENDING)]):\n",
    "    pprint.pprint(user)"
   ]
  },
  {
   "cell_type": "code",
   "execution_count": null,
   "metadata": {},
   "outputs": [],
   "source": [
    "for user in db.users.find({'score': {'$lte': 5}}).sort([('score', pymongo.DESCENDING)]):\n",
    "    pprint.pprint(user)"
   ]
  },
  {
   "cell_type": "markdown",
   "metadata": {},
   "source": [
    "### Limit result size  "
   ]
  },
  {
   "cell_type": "code",
   "execution_count": null,
   "metadata": {},
   "outputs": [],
   "source": [
    "for user in db.users.find({'score': {'$lte': 5}}).sort([('score', pymongo.DESCENDING)]).limit(2):\n",
    "    pprint.pprint(user)"
   ]
  },
  {
   "cell_type": "code",
   "execution_count": null,
   "metadata": {
    "collapsed": true
   },
   "outputs": [],
   "source": [
    "def load_json(j):\n",
    "    p=os.path.join(\"data/\", j)\n",
    "    print (p)\n",
    "    with open(p, 'rU') as f:\n",
    "      data = [json.loads(row) for row in f]\n",
    "    return data "
   ]
  },
  {
   "cell_type": "code",
   "execution_count": null,
   "metadata": {},
   "outputs": [],
   "source": [
    "tweets_j=load_json('db_tweets.json')\n",
    "tweets_j[0]"
   ]
  },
  {
   "cell_type": "code",
   "execution_count": null,
   "metadata": {},
   "outputs": [],
   "source": [
    "print(tweets_j[0]['text'])"
   ]
  },
  {
   "cell_type": "code",
   "execution_count": null,
   "metadata": {},
   "outputs": [],
   "source": [
    "tweets = pd.DataFrame(tweets_j)\n",
    "tweets.head()"
   ]
  },
  {
   "cell_type": "code",
   "execution_count": null,
   "metadata": {},
   "outputs": [],
   "source": [
    "db.tweets"
   ]
  },
  {
   "cell_type": "code",
   "execution_count": null,
   "metadata": {},
   "outputs": [],
   "source": [
    "cnt=0\n",
    "for tweet in tweets_j:\n",
    "    print(\"tweet \", cnt)\n",
    "    cnt+=1\n",
    "    pprint.pprint(tweet) \n",
    "    print()    "
   ]
  },
  {
   "cell_type": "code",
   "execution_count": null,
   "metadata": {},
   "outputs": [],
   "source": [
    "cnt=0\n",
    "for tweet in tweets_j:\n",
    "    print (tweet['id'])    \n",
    "    print (tweet['text'])    \n",
    "    print (tweet['created_at'])"
   ]
  },
  {
   "cell_type": "code",
   "execution_count": null,
   "metadata": {
    "collapsed": true
   },
   "outputs": [],
   "source": [
    "def tweet_json(tid,text,created):\n",
    "    j={\n",
    "    \"tweet_id\" : tid,\n",
    "    \"text\" : text,\n",
    "    \"created_at\" : created}\n",
    "    return j"
   ]
  },
  {
   "cell_type": "code",
   "execution_count": null,
   "metadata": {},
   "outputs": [],
   "source": [
    "ts=datetime.now()\n",
    "# \"Current date and time using strftime:\"\n",
    "ts.strftime(\"%Y-%m-%d %H:%M\")"
   ]
  },
  {
   "cell_type": "code",
   "execution_count": null,
   "metadata": {},
   "outputs": [],
   "source": [
    "ts = datetime.strptime('Jun 1 2005  1:33PM', '%b %d %Y %I:%M%p')\n",
    "ts.strftime(\"%Y-%m-%d %H:%M\")"
   ]
  },
  {
   "cell_type": "code",
   "execution_count": null,
   "metadata": {},
   "outputs": [],
   "source": [
    "# Twitter dates are of the form Sun Mar 15 21:41:54 +0000 2015\n",
    "datestrings=['Sun Mar 15 21:41:54 +0000 2015','Tue Mar 29 08:11:25 +0000 2011']\n",
    "from datetime import timedelta\n",
    "from email.utils import parsedate_tz\n",
    "\n",
    "def to_datetime(datestring):\n",
    "    time_tuple = parsedate_tz(datestring.strip())\n",
    "    dt = datetime(*time_tuple[:6])\n",
    "    return dt - timedelta(seconds=time_tuple[-1])\n",
    "\n",
    "ts=to_datetime(datestrings[0])\n",
    "print (ts.strftime(\"%Y-%m-%d %H:%M\"))\n",
    "ts=to_datetime(datestrings[1])\n",
    "print (ts.strftime(\"%Y-%m-%d %H:%M\"))"
   ]
  },
  {
   "cell_type": "code",
   "execution_count": null,
   "metadata": {},
   "outputs": [],
   "source": [
    "cnt=0\n",
    "for tweet in tweets_j:\n",
    "    ts=datetime.now()\n",
    "    try:\n",
    "        ts=to_datetime(tweet['created_at'])\n",
    "    except:\n",
    "        pass     \n",
    "    try:\n",
    "        j=tweet_json(tweet['id'],tweet['text'],ts)\n",
    "        result = db.tweets.insert_one(j)\n",
    "        cnt+=1\n",
    "    except:\n",
    "        pass       \n",
    "print (\"%d tweets inserted.\"%cnt)"
   ]
  },
  {
   "cell_type": "code",
   "execution_count": null,
   "metadata": {},
   "outputs": [],
   "source": [
    "for tweet in db.tweets.find():\n",
    "    pprint.pprint(tweet)"
   ]
  },
  {
   "cell_type": "markdown",
   "metadata": {
    "collapsed": true
   },
   "source": [
    "Updated October 3, 2017"
   ]
  }
 ],
 "metadata": {
  "kernelspec": {
   "display_name": "Python 3",
   "language": "python",
   "name": "python3"
  },
  "language_info": {
   "codemirror_mode": {
    "name": "ipython",
    "version": 3
   },
   "file_extension": ".py",
   "mimetype": "text/x-python",
   "name": "python",
   "nbconvert_exporter": "python",
   "pygments_lexer": "ipython3",
   "version": "3.6.1"
  }
 },
 "nbformat": 4,
 "nbformat_minor": 2
}
